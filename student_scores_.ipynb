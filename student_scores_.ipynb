{
  "nbformat": 4,
  "nbformat_minor": 0,
  "metadata": {
    "colab": {
      "name": "student_scores .ipynb",
      "provenance": []
    },
    "kernelspec": {
      "name": "python3",
      "display_name": "Python 3"
    },
    "language_info": {
      "name": "python"
    }
  },
  "cells": [
    {
      "cell_type": "code",
      "metadata": {
        "id": "zNX3bPHRcRoP"
      },
      "source": [
        "Hours,Scores\n",
        "2.5,21\n",
        "5.1,47\n",
        "3.2,27\n",
        "8.5,75\n",
        "3.5,30\n",
        "1.5,20\n",
        "9.2,88\n",
        "5.5,60\n",
        "8.3,81\n",
        "2.7,25\n",
        "7.7,85\n",
        "5.9,62\n",
        "4.5,41\n",
        "3.3,42\n",
        "1.1,17\n",
        "8.9,95\n",
        "2.5,30\n",
        "1.9,24\n",
        "6.1,67\n",
        "7.4,69\n",
        "2.7,30\n",
        "4.8,54\n",
        "3.8,35\n",
        "6.9,76\n",
        "7.8,86"
      ],
      "execution_count": null,
      "outputs": []
    }
  ]
}